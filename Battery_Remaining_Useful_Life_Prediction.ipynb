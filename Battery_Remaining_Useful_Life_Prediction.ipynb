{
 "cells": [
  {
   "cell_type": "markdown",
   "metadata": {},
   "source": [
    "# Introduction\n",
    "\n",
    "In this notebook, we will predict the remaining useful life (RUL) of a battery and visualize the prediction uncertainty by using a visualization technique called hypothetical outcome plots. \n",
    "\n",
    "Specifically, we will create an animation that displays various possible battery degradation trajectories. \n",
    "\n",
    "In this case study, we will demonstrate how hypothetical outcome plots highlight the **risk** of battery failure after certain usage time. This could be especially helpful when communicating prediction uncertainties to decision-makers, as hypothetical outcome plots allow decision-makers to directly *experience* risk, which would otherwise be asbtract and hard to interpret."
   ]
  },
  {
   "cell_type": "code",
   "execution_count": 3,
   "metadata": {},
   "outputs": [],
   "source": [
    "# import all packages and set plots to be embedded inline\n",
    "import numpy as np\n",
    "from scipy.integrate import quad\n",
    "import sklearn.gaussian_process as gp\n",
    "import matplotlib.pyplot as plt\n",
    "from matplotlib import animation\n",
    "from IPython.display import HTML\n",
    "from celluloid import Camera\n",
    "from numpy import genfromtxt\n",
    "import pandas as pd\n",
    "import os\n",
    "\n",
    "%matplotlib inline\n",
    "np.set_printoptions(precision=2,suppress=True)\n",
    "np.random.seed(42)"
   ]
  },
  {
   "cell_type": "markdown",
   "metadata": {},
   "source": [
    "# Physical background"
   ]
  },
  {
   "cell_type": "code",
   "execution_count": 2,
   "metadata": {},
   "outputs": [
    {
     "data": {
      "image/png": "[encoded data removed]",
      "text/plain": [
       "<Figure size 504x360 with 1 Axes>"
      ]
     },
     "metadata": {
      "needs_background": "light"
     },
     "output_type": "display_data"
    }
   ],
   "source": [
    "# Training data\n",
    "X_train = np.arange(0,46,5)\n",
    "y_train = np.array([1.,0.99,0.99,0.94,0.9,0.94,0.91,0.91,0.87,0.86])\n",
    "\n",
    "\n",
    "# Visualizing training data\n",
    "fig, ax = plt.subplots(figsize=(7,5))\n",
    "ax.set(xlim=(-3, 152), ylim=(0.48, 1.02))\n",
    "ax.plot(X_train,y_train,'o',color=(0.5,0.5,0.5),markerfacecolor=(0.5,0.5,0.5),markersize=10,label='Training Data')\n",
    "\n",
    "# Risk region\n",
    "shade_x = np.arange(-3,153)\n",
    "shade_upper = 0.7*np.ones(shade_x.shape[0])\n",
    "shade_lower = 0.46*np.ones(shade_x.shape[0])\n",
    "ax.fill_between(shade_x, shade_upper, shade_lower,facecolor='lavender')\n",
    "ax.text(117,0.65,'Failure Region', fontsize=12)\n",
    "\n",
    "# Figure settings\n",
    "ax.set_xlabel('Cycles', fontsize=15)\n",
    "ax.set_ylabel('C/1 (Ahr)', fontsize=15)\n",
    "ax.legend(loc=\"upper right\",prop={'size': 12});"
   ]
  },
  {
   "cell_type": "code",
   "execution_count": 66,
   "metadata": {},
   "outputs": [],
   "source": [
    "# Monte Carlo simulation of degradation paths\n",
    "def degradation_path_ensemble(target_cycle, samples):\n",
    "    \"\"\"Thie function calculates the battery degradation path uptill \n",
    "    a given cycle number.\n",
    "    \n",
    "    Inputs:\n",
    "    target_cycle --> target cycle number\n",
    "    samples --> parameter samples of the battery degradation model\n",
    "    \n",
    "    Outputs:\n",
    "    cycle_steps --> a list of cycles to calculate battery degradation state\n",
    "    ensemble_path --> degradation paths for individual parameter samples\n",
    "    \"\"\"\n",
    "    \n",
    "    cycle_steps = np.arange(0, target_cycle+1,10)\n",
    "    ensemble_path = []\n",
    "    \n",
    "    for sample in samples:\n",
    "        \n",
    "        # Calculate a single path\n",
    "        single_path = np.exp(-sample*cycle_steps)\n",
    "        \n",
    "        # Combine paths\n",
    "        ensemble_path.append(single_path)\n",
    "    \n",
    "    return cycle_steps, ensemble_path"
   ]
  },
  {
   "cell_type": "code",
   "execution_count": 117,
   "metadata": {},
   "outputs": [],
   "source": [
    "# Load parameter samples (Limit to the first 100 samples)\n",
    "samples = genfromtxt('./Dataset/Prognostic_data.csv', delimiter=',')[0:50]\n",
    "\n",
    "# Monte Carlo simulation (Ensemble trajectories)\n",
    "target_cycle = 110\n",
    "cycle_steps, ensemble_path = degradation_path_ensemble(target_cycle, samples)\n",
    "\n",
    "# Identify failed path\n",
    "failed_index = []\n",
    "for i,path in enumerate(ensemble_path):\n",
    "    if path[-1]<0.7:\n",
    "        failed_index.append(i)"
   ]
  },
  {
   "cell_type": "code",
   "execution_count": 118,
   "metadata": {},
   "outputs": [
    {
     "data": {
      "image/png": "[encoded data removed]",
      "text/plain": [
       "<Figure size 504x360 with 1 Axes>"
      ]
     },
     "metadata": {
      "needs_background": "light"
     },
     "output_type": "display_data"
    }
   ],
   "source": [
    "# Display trajectories in animation\n",
    "fig, ax = plt.subplots(figsize=(7,5))\n",
    "ax.set(xlim=(-3, 152), ylim=(0.48, 1.02))\n",
    "\n",
    "ax.set_xlabel('Cycles', fontsize=15)\n",
    "ax.set_ylabel('C/1 (Ahr)', fontsize=15)\n",
    "\n",
    "# Initiate camera\n",
    "camera = Camera(fig)\n",
    "\n",
    "for i in range(samples.shape[0]):\n",
    "               \n",
    "    for j in range(cycle_steps.shape[0]):\n",
    "    \n",
    "        # Plot risk line\n",
    "        ax.plot([-3, 152], [0.7, 0.7], '--r', lw=2)\n",
    "        ax.text(117,0.67,'Failure Region', fontsize=12)\n",
    "        \n",
    "        # Plot target cycle\n",
    "        ax.plot([target_cycle, target_cycle], [0.48, 1.02], '--g', lw=2)\n",
    "        ax.text(target_cycle+3,0.9,'Target cycle', fontsize=12)\n",
    "        \n",
    "        # Plot trajectpry (red signifies a failed path)\n",
    "        x = cycle_steps[0:j+1]\n",
    "        y = ensemble_path[i][0:j+1]\n",
    "        if i in failed_index:     \n",
    "            ax.plot(x, y, color='r', lw=1.2)\n",
    "        else:\n",
    "            ax.plot(x, y, color=(0.6,0.6,0.6), lw=0.6,)\n",
    "            \n",
    "        \n",
    "        # Mark failed path in red\n",
    "        for accu_path in range(i):\n",
    "            if accu_path in failed_index:  \n",
    "                ax.plot(cycle_steps, ensemble_path[accu_path], color='r', lw=1.2)\n",
    "            else:\n",
    "                ax.plot(cycle_steps, ensemble_path[accu_path], color=(0.6,0.6,0.6), lw=0.6)\n",
    "            \n",
    "        \n",
    "#         for failed in failed_index:\n",
    "#             if failed<i:\n",
    "#                 ax.plot(cycle_steps, ensemble_path[failed], color='r', lw=1.2, linestyle='-')\n",
    "            \n",
    "        \n",
    "        # Capture frame\n",
    "        camera.snap()\n",
    "        \n",
    "anim = camera.animate(interval = 30, repeat = False, repeat_delay = 500)"
   ]
  },
  {
   "cell_type": "code",
   "execution_count": null,
   "metadata": {},
   "outputs": [],
   "source": [
    "HTML(anim.to_html5_video())"
   ]
  },
  {
   "cell_type": "code",
   "execution_count": null,
   "metadata": {},
   "outputs": [],
   "source": []
  }
 ],
 "metadata": {
  "kernelspec": {
   "display_name": "Python 3",
   "language": "python",
   "name": "python3"
  },
  "language_info": {
   "codemirror_mode": {
    "name": "ipython",
    "version": 3
   },
   "file_extension": ".py",
   "mimetype": "text/x-python",
   "name": "python",
   "nbconvert_exporter": "python",
   "pygments_lexer": "ipython3",
   "version": "3.8.5"
  }
 },
 "nbformat": 4,
 "nbformat_minor": 4
}
