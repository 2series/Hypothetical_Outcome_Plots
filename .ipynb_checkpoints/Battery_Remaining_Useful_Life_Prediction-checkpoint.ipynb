{
 "cells": [
  {
   "cell_type": "markdown",
   "metadata": {},
   "source": [
    "# Introduction\n",
    "\n",
    "In this notebook, we will predict the remaining useful life (RUL) of a battery and visualize the prediction uncertainty by using a visualization technique called hypothetical outcome plots. \n",
    "\n",
    "Towards that end, we will create an animation that displays various possible battery degradation trajectories. For this prognostic case study, we adopted a data-driven approach, which trains a statistical model to approximate the relationship between time and battery degradation state, thus allowing us to estimate the remaining useful life (RUL) of the battery.\n",
    "\n",
    "In this case study, we will demonstrate how hypothetical outcome plots highlight the **risk** of battery failure after certain usage time. This could be especially helpful when communicating prediction uncertainties to decision-makers, as hypothetical outcome plots allow decision-makers to directly *experience* risk, which would otherwise be asbtract "
   ]
  },
  {
   "cell_type": "code",
   "execution_count": null,
   "metadata": {},
   "outputs": [],
   "source": []
  }
 ],
 "metadata": {
  "kernelspec": {
   "display_name": "Python 3",
   "language": "python",
   "name": "python3"
  },
  "language_info": {
   "codemirror_mode": {
    "name": "ipython",
    "version": 3
   },
   "file_extension": ".py",
   "mimetype": "text/x-python",
   "name": "python",
   "nbconvert_exporter": "python",
   "pygments_lexer": "ipython3",
   "version": "3.8.5"
  }
 },
 "nbformat": 4,
 "nbformat_minor": 4
}
