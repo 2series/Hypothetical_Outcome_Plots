{
 "cells": [
  {
   "cell_type": "markdown",
   "metadata": {},
   "source": [
    "# Introduction\n",
    "\n",
    "In this notebook, we will predict the remaining useful life (RUL) of a battery and visualize the prediction uncertainty by using a visualization technique called hypothetical outcome plots. \n",
    "\n",
    "Towards that end, we will create an animation that displays various possible battery degradation trajectories. For this prognostic case study, we adopted a data-driven approach, which trains a statistical model to approximate the relationship between time and battery degradation state, thus allowing us to estimate the remaining useful life (RUL) of the battery.\n",
    "\n",
    "In this case study, we will demonstrate how hypothetical outcome plots highlight the **risk** of battery failure after certain usage time. This could be especially helpful when communicating prediction uncertainties to decision-makers, as hypothetical outcome plots allow decision-makers to directly *experience* risk, which would otherwise be asbtract and hard to interpret."
   ]
  },
  {
   "cell_type": "code",
   "execution_count": 2,
   "metadata": {},
   "outputs": [],
   "source": [
    "# import all packages and set plots to be embedded inline\n",
    "import numpy as np\n",
    "from scipy.integrate import quad\n",
    "import sklearn.gaussian_process as gp\n",
    "import matplotlib.pyplot as plt\n",
    "from matplotlib import animation\n",
    "from IPython.display import HTML\n",
    "from celluloid import Camera\n",
    "import pandas as pd\n",
    "import os\n",
    "\n",
    "%matplotlib inline\n",
    "np.set_printoptions(precision=2,suppress=True)\n",
    "np.random.seed(42)"
   ]
  },
  {
   "cell_type": "code",
   "execution_count": 23,
   "metadata": {},
   "outputs": [
    {
     "data": {
      "text/plain": [
       "<matplotlib.legend.Legend at 0x2720d12fc10>"
      ]
     },
     "execution_count": 23,
     "metadata": {},
     "output_type": "execute_result"
    },
    {
     "data": {
      "image/png": "[encoded data removed]",
      "text/plain": [
       "<Figure size 504x360 with 1 Axes>"
      ]
     },
     "metadata": {
      "needs_background": "light"
     },
     "output_type": "display_data"
    }
   ],
   "source": [
    "# Training data\n",
    "X_train = np.arange(0,46,5)\n",
    "y_train = np.array([1.,0.99,0.99,0.94,0.9,0.94,0.91,0.91,0.87,0.86])\n",
    "\n",
    "\n",
    "# Visualizing training data\n",
    "fig, ax = plt.subplots(figsize=(7,5))\n",
    "ax.set(xlim=(-3, 152), ylim=(0.48, 1.02))\n",
    "ax.plot(X_train,y_train,'o',color=(0.5,0.5,0.5),markerfacecolor=(0.5,0.5,0.5),markersize=10,label='Training Data')\n",
    "\n",
    "# Risk region\n",
    "shade_x = np.arange(-3,153)\n",
    "shade_upper = 0.7*np.ones(shade_x.shape[0])\n",
    "shade_lower = 0.46*np.ones(shade_x.shape[0])\n",
    "ax.fill_between(shade_x, shade_upper, shade_lower,facecolor='lavender')\n",
    "ax.text(117,0.65,'Failure Region', fontsize=12)\n",
    "\n",
    "# Figure settings\n",
    "ax.set_xlabel('Cycles', fontsize=15)\n",
    "ax.set_ylabel('C/1 (Ahr)', fontsize=15)\n",
    "ax.legend(loc=\"upper right\",prop={'size': 12})"
   ]
  },
  {
   "cell_type": "code",
   "execution_count": 22,
   "metadata": {},
   "outputs": [
    {
     "data": {
      "text/plain": [
       "GaussianProcessRegressor(alpha=0.4, kernel=1**2 * RBF(length_scale=1),\n",
       "                         n_restarts_optimizer=30, normalize_y=True)"
      ]
     },
     "execution_count": 22,
     "metadata": {},
     "output_type": "execute_result"
    }
   ],
   "source": [
    "# Train Gaussian Process (GP) model\n",
    "kernel = gp.kernels.ConstantKernel(1.0, (1e-1, 1e3)) * gp.kernels.RBF(1.0, (1e-3, 1e3))\n",
    "model = gp.GaussianProcessRegressor(kernel=kernel, \n",
    "                                    optimizer='fmin_l_bfgs_b',\n",
    "                                    n_restarts_optimizer=30, \n",
    "                                    alpha=0.4, \n",
    "                                    normalize_y=True)\n",
    "model.fit(X_train.reshape((-1, 1)), y_train.reshape((-1, 1)))"
   ]
  },
  {
   "cell_type": "code",
   "execution_count": null,
   "metadata": {},
   "outputs": [],
   "source": [
    "# GP prediction\n",
    "X_test = np.arange(0, 140, 1)\n",
    "y_pred, pred_cov = model.predict(X_test.reshape((-1, 1)), return_cov=True)\n",
    "y_pred = np.ravel(y_pred)\n",
    "\n",
    "# Prediction standard deviation\n",
    "pred_std = np.sqrt(np.diag(pred_cov))\n",
    "\n",
    "# Visualizing GP prediction\n",
    "ax.plot(X_test,y_pred,'b-',lw=2,label='GP Prediction')\n"
   ]
  }
 ],
 "metadata": {
  "kernelspec": {
   "display_name": "Python 3",
   "language": "python",
   "name": "python3"
  },
  "language_info": {
   "codemirror_mode": {
    "name": "ipython",
    "version": 3
   },
   "file_extension": ".py",
   "mimetype": "text/x-python",
   "name": "python",
   "nbconvert_exporter": "python",
   "pygments_lexer": "ipython3",
   "version": "3.8.5"
  }
 },
 "nbformat": 4,
 "nbformat_minor": 4
}
