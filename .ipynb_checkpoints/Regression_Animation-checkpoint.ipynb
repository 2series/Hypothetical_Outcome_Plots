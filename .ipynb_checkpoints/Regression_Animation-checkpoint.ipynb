{
 "cells": [
  {
   "cell_type": "markdown",
   "metadata": {},
   "source": [
    "# Introduction\n",
    "\n",
    "In this notebook, we will visualize the uncertainty of a regression analysis by using a visualization technique called hypothetical outcome plots. The adopted regression method is the **Gaussian Process** approach, which is delivered by using the GP implementation from `Scikit-Learn`. "
   ]
  },
  {
   "cell_type": "markdown",
   "metadata": {},
   "source": [
    "# Hypothetical outcome plots\n",
    "\n",
    "Hypothetical outcome plots (HOP) is an effective approach to communicate data uncertainty. This method visualizes uncertainty through animations by cycling through a number of different plots, each of which represents one possible outcome drawn from the outcome distribution.\n",
    "\n",
    "In this notebook, we will create an animation of a series of possible regression curves drawn from the posterior distribution of the trained Gaussian Process model."
   ]
  },
  {
   "cell_type": "code",
   "execution_count": 1,
   "metadata": {},
   "outputs": [],
   "source": [
    "# import all packages and set plots to be embedded inline\n",
    "import numpy as np\n",
    "from scipy.integrate import quad\n",
    "import sklearn.gaussian_process as gp\n",
    "import matplotlib.pyplot as plt\n",
    "import pandas as pd\n",
    "import os\n",
    "\n",
    "%matplotlib inline\n",
    "np.set_printoptions(precision=2,suppress=True)"
   ]
  },
  {
   "cell_type": "code",
   "execution_count": null,
   "metadata": {},
   "outputs": [],
   "source": []
  }
 ],
 "metadata": {
  "kernelspec": {
   "display_name": "Python 3",
   "language": "python",
   "name": "python3"
  },
  "language_info": {
   "codemirror_mode": {
    "name": "ipython",
    "version": 3
   },
   "file_extension": ".py",
   "mimetype": "text/x-python",
   "name": "python",
   "nbconvert_exporter": "python",
   "pygments_lexer": "ipython3",
   "version": "3.8.5"
  }
 },
 "nbformat": 4,
 "nbformat_minor": 4
}
