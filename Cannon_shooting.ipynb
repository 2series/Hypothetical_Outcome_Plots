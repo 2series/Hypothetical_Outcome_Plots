{
 "cells": [
  {
   "cell_type": "markdown",
   "metadata": {},
   "source": [
    "# Introduction\n",
    "\n",
    "In this notebook, we will visualize the uncertainty of the shooting range of a cannon by using a visualization technique called hypothetical outcome plots. Towards that end, we will create an animation that cycles through different possible cannonball trajectories. In this way, we are able to let the audiences experience the analysis uncertainty, thus making uncertainty visualization intuitive, effective, and fun."
   ]
  },
  {
   "cell_type": "code",
   "execution_count": 4,
   "metadata": {},
   "outputs": [],
   "source": [
    "# import all packages and set plots to be embedded inline\n",
    "import numpy as np\n",
    "from scipy.integrate import quad\n",
    "import sklearn.gaussian_process as gp\n",
    "import matplotlib.pyplot as plt\n",
    "from matplotlib import animation\n",
    "from IPython.display import HTML\n",
    "import pandas as pd\n",
    "import os\n",
    "\n",
    "%matplotlib inline\n",
    "np.set_printoptions(precision=2,suppress=True)\n",
    "np.random.seed(42)"
   ]
  },
  {
   "cell_type": "markdown",
   "metadata": {},
   "source": [
    "# Problem settings\n",
    "\n",
    "### Physical background\n",
    "\n",
    "In this case study, we consider a projectile motion problem and we are interested in calculating the shooting range $R$ of a cannon. For demonstration purpose, we choose a rather simple physical model to describe the trajectary of the cannonball, where the shooting range $R$ is calculated by:\n",
    "\n",
    "\\begin{equation}\n",
    "R = \\frac{v_0^2 sin 2 \\theta}{g},\n",
    "\\end{equation}\n",
    "\n",
    "where $v_0$ is the initial velocity of the cannonball, $\\theta$ is the shooting angle, and $g=9.8m/s^2$ is the gravity acceleration. An illustration of the current problem is shown below.\n",
    "\n",
    "<img src=\"Illustration_cannon.png\" width=500 height=300 />\n",
    "\n",
    "### Uncertainty analysis\n",
    "\n",
    "Suppose that we are not sure about the values of $v_0$ and $\\theta$, as they can be influenced by randomness in practice. To describe their uncertainty, we assign a probability distribution for $v_0$ and $\\theta$, respectively. Specifically, we assume:\n",
    "\n",
    "- $v_0$ follows a normal distribution, i.e., $v_0 \\sim \\mathcal{N}(150,5^2)$. This distribution indicates that the mean value of $v_0$ is $150m/s$ and the standard deviation value of $v_0$ is $5m/s$;\n",
    "\n",
    "- $\\theta$ follows a uniform distribution, i.e., $\\theta \\sim \\mathcal{U}(40,50)$. This distribution indicates that $\\theta$ can take any value between $40^{o}$ and $50^{o}$ with equal probability.\n",
    "\n",
    "Due to the uncertainty embedded in the model parameters ($v_0$ and $\\theta$), the prediction of shooting range $R$ will also be uncertain. To quantify the uncertainty of $R$ calculation, we can perform Monte Carlo simulations "
   ]
  },
  {
   "cell_type": "markdown",
   "metadata": {},
   "source": [
    "### 1. Monte Carlo simulations\n",
    "\n",
    "First of all, let's perform Monte Carlo simulations to quantify the uncertainty of $R$ calculations. If you want to learn more about Monte Carlo approach and forward uncertainty propagation, feel free to check out my article on medium:\n",
    "\n",
    "[Using Monte Carlo To Quantify The Model Prediction Error](https://towardsdatascience.com/how-to-quantify-the-prediction-error-made-by-my-model-db4705910173)"
   ]
  },
  {
   "cell_type": "code",
   "execution_count": 30,
   "metadata": {},
   "outputs": [],
   "source": [
    "# Generate input samples\n",
    "MC_sample_num = 1000\n",
    "v0 = np.random.normal(loc=150, scale=5, size=MC_sample_num)\n",
    "theta = 10*np.random.rand(MC_sample_num)+40\n",
    "g = 9.8"
   ]
  },
  {
   "cell_type": "code",
   "execution_count": 31,
   "metadata": {},
   "outputs": [],
   "source": [
    "# Monte Carlo simulations\n",
    "R = []\n",
    "for i in range(MC_sample_num):\n",
    "    R.append(v0[i]**2*np.sin(2*theta[i]/180*np.pi)/g)"
   ]
  },
  {
   "cell_type": "code",
   "execution_count": 32,
   "metadata": {
    "scrolled": false
   },
   "outputs": [
    {
     "data": {
      "image/png": "[encoded data removed]",
      "text/plain": [
       "<Figure size 504x360 with 1 Axes>"
      ]
     },
     "metadata": {
      "needs_background": "light"
     },
     "output_type": "display_data"
    }
   ],
   "source": [
    "# Post processing\n",
    "fig, ax = plt.subplots(figsize=(7,5))\n",
    "ax.hist(R, bins=30, edgecolor='black')\n",
    "fig.suptitle('Histogram of Shooting Range', fontsize=15)\n",
    "ax.set_xlabel('Shooting Range/m', fontsize=12)\n",
    "ax.set_ylabel('Counts', fontsize=12);"
   ]
  },
  {
   "cell_type": "code",
   "execution_count": null,
   "metadata": {},
   "outputs": [],
   "source": []
  },
  {
   "cell_type": "code",
   "execution_count": 24,
   "metadata": {},
   "outputs": [],
   "source": [
    "# Define trajectory calculation function\n",
    "def traj_cal(v0, theta, g, time_step=10):\n",
    "    '''Calculate the cannonball trajectory\n",
    "    Inputs:\n",
    "        v0 --> initial velocity of the cannonball\n",
    "        theta --> shooting angle (in degree)\n",
    "        g --> gravity acceleration\n",
    "        time_step --> time discretization\n",
    "    Outputs:\n",
    "        coor_X --> X coordinates of the cannonball\n",
    "        coor_Y --> Y coordinates of the cannonball'''\n",
    "    \n",
    "    # Time for the cannonball to reach maximum height\n",
    "    t_c = v0*np.sin(theta/180*np.pi)/g\n",
    "    \n",
    "    # Time discretization\n",
    "    t = np.linspace(start=0, stop=2*t_c, num=time_step)\n",
    "    coor_X, coor_Y = [], []\n",
    "    \n",
    "    # Calculate trajectory\n",
    "    for time in t:\n",
    "        coor_X.append(v0*np.cos(theta/180*np.pi)*time)\n",
    "        if time <= t_c:\n",
    "            coor_Y.append(v0*np.sin(theta/180*np.pi)*time-0.5*g*time**2)\n",
    "        else:\n",
    "            coor_Y.append(v0*np.sin(theta/180*np.pi)*t_c-0.5*g*t_c**2-0.5*g*(time-t_c)**2)\n",
    "    \n",
    "    return coor_X, coor_Y"
   ]
  },
  {
   "cell_type": "code",
   "execution_count": null,
   "metadata": {},
   "outputs": [],
   "source": []
  }
 ],
 "metadata": {
  "kernelspec": {
   "display_name": "Python 3",
   "language": "python",
   "name": "python3"
  },
  "language_info": {
   "codemirror_mode": {
    "name": "ipython",
    "version": 3
   },
   "file_extension": ".py",
   "mimetype": "text/x-python",
   "name": "python",
   "nbconvert_exporter": "python",
   "pygments_lexer": "ipython3",
   "version": "3.8.5"
  }
 },
 "nbformat": 4,
 "nbformat_minor": 4
}
